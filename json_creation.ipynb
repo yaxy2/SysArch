{
 "cells": [
  {
   "cell_type": "code",
   "execution_count": 10,
   "metadata": {},
   "outputs": [],
   "source": [
    "import json\n",
    "\n",
    "# Dummy data\n",
    "\n",
    "lidar = 23\n",
    "humidity = 53\n",
    "steering_angle = 32\n",
    "temperature = 54\n",
    "speed = 54\n",
    "altimeter = 12\n",
    "\n",
    "acc_x = 43\n",
    "acc_y = 23\n",
    "acc_z = 65\n",
    "\n",
    "mag_x = 23\n",
    "mag_y = 42\n",
    "mag_z = 65\n",
    "\n",
    "gyro_x = 95\n",
    "gyro_y = 84\n",
    "gyro_z = 83\n",
    "\n",
    "# Dummy timestamp data\n",
    "\n",
    "ts_lidar = 2345634534566\n",
    "ts_humidity = 533452345254\n",
    "ts_steering_angle = 3234523452345\n",
    "ts_temperature = 545463563456\n",
    "ts_speed = 54345345345\n",
    "ts_altimeter = 1234523542345\n",
    "\n",
    "ts_acc = 4332463635\n",
    "ts_mag = 2345634563465\n",
    "ts_gyro = 952345234523563\n",
    "\n",
    "\n",
    "# Define JSON and pass values\n",
    "\n",
    "sensor_data =   {\n",
    "                    \"SensorValue1\": [\n",
    "                        {\"name\":\"LIDAR\", \"timestamp\":ts_lidar, \"value\":lidar},\n",
    "                        {\"name\":\"Humidity\", \"timestamp\":ts_humidity, \"value\":humidity},\n",
    "                        {\"name\":\"SteeringAngle\",\"timestamp\":ts_steering_angle, \"value\":steering_angle},\n",
    "                        {\"name\":\"Temperature\", \"timestamp\":ts_temperature, \"value\":temperature},\n",
    "                        {\"name\":\"Speed\", \"timestamp\":ts_speed, \"value\":speed},\n",
    "                        {\"name\":\"Altimeter\", \"timestamp\":ts_altimeter, \"value\":altimeter}\n",
    "                    ],\n",
    "\n",
    "                    \"SensorValue3\": [\n",
    "                        {\"name\":\"Acceleration\", \"timestamp\":ts_acc, \"valueX\":acc_x, \"valueY\":acc_y, \"valueZ\":acc_z},\n",
    "                        {\"name\":\"Magnetometer\", \"timestamp\":ts_mag, \"valueX\":mag_x, \"valueY\":mag_y, \"valueZ\":mag_z},\n",
    "                        {\"name\":\"Gyro\", \"timestamp\":ts_gyro, \"valueX\":gyro_x, \"valueY\":gyro_y, \"valueZ\":gyro_z}\n",
    "                    ]\n",
    "                }\n",
    "\n",
    "\n",
    "# Save as JSON\n",
    "\n",
    "with open('sensor_data.json', 'w') as json_file:\n",
    "    json.dump(sensor_data, json_file)"
   ]
  },
  {
   "cell_type": "code",
   "execution_count": null,
   "metadata": {},
   "outputs": [],
   "source": []
  },
  {
   "cell_type": "code",
   "execution_count": null,
   "metadata": {},
   "outputs": [],
   "source": []
  }
 ],
 "metadata": {
  "kernelspec": {
   "display_name": "Python 3",
   "language": "python",
   "name": "python3"
  },
  "language_info": {
   "codemirror_mode": {
    "name": "ipython",
    "version": 3
   },
   "file_extension": ".py",
   "mimetype": "text/x-python",
   "name": "python",
   "nbconvert_exporter": "python",
   "pygments_lexer": "ipython3",
   "version": "3.7.6"
  }
 },
 "nbformat": 4,
 "nbformat_minor": 4
}
